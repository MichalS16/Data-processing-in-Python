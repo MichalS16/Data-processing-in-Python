{
 "cells": [
  {
   "cell_type": "markdown",
   "metadata": {},
   "source": [
    "# Midterm\n",
    "To run this notebook please make sure it runs on python 3.12 and neccesery  packages for jupyter notebook"
   ]
  },
  {
   "cell_type": "markdown",
   "metadata": {},
   "source": [
    "## setting enviroment\n",
    "Neccesery libraries to install"
   ]
  },
  {
   "cell_type": "code",
   "execution_count": 1,
   "metadata": {},
   "outputs": [],
   "source": [
    "import pandas as pd\n",
    "import numpy as np\n",
    "import matplotlib.pyplot as plt"
   ]
  },
  {
   "cell_type": "markdown",
   "metadata": {},
   "source": [
    "## First part"
   ]
  },
  {
   "cell_type": "code",
   "execution_count": 10,
   "metadata": {},
   "outputs": [
    {
     "name": "stdout",
     "output_type": "stream",
     "text": [
      "<class 'pandas.core.frame.DataFrame'>\n",
      "RangeIndex: 1510 entries, 0 to 1509\n",
      "Data columns (total 8 columns):\n",
      " #   Column        Non-Null Count  Dtype  \n",
      "---  ------        --------------  -----  \n",
      " 0   Date          1510 non-null   object \n",
      " 1   Open          1510 non-null   float64\n",
      " 2   High          1510 non-null   float64\n",
      " 3   Low           1510 non-null   float64\n",
      " 4   Close         1510 non-null   float64\n",
      " 5   Volume        1510 non-null   int64  \n",
      " 6   Dividends     1510 non-null   float64\n",
      " 7   Stock Splits  1510 non-null   float64\n",
      "dtypes: float64(6), int64(1), object(1)\n",
      "memory usage: 94.5+ KB\n"
     ]
    }
   ],
   "source": [
    "# load data\n",
    "data_dg=pd.read_csv(\"data/DG.csv\")\n",
    "data_hig=pd.read_csv(\"data/HIG.csv\")\n",
    "data_hpe=pd.read_csv(\"data/HPE.csv\")\n",
    "data_hwm=pd.read_csv(\"data/HWM.csv\")\n",
    "\n",
    "# check the data\n",
    "data_dg.info()\n",
    "#data_hig\n",
    "#data_hpe\n",
    "#data_hwm"
   ]
  },
  {
   "cell_type": "markdown",
   "metadata": {},
   "source": [
    "Task 1 - we can see that for dg, hig, hpe and hwm there are days with same close and open value"
   ]
  },
  {
   "cell_type": "code",
   "execution_count": 28,
   "metadata": {},
   "outputs": [
    {
     "data": {
      "text/html": [
       "<div>\n",
       "<style scoped>\n",
       "    .dataframe tbody tr th:only-of-type {\n",
       "        vertical-align: middle;\n",
       "    }\n",
       "\n",
       "    .dataframe tbody tr th {\n",
       "        vertical-align: top;\n",
       "    }\n",
       "\n",
       "    .dataframe thead th {\n",
       "        text-align: right;\n",
       "    }\n",
       "</style>\n",
       "<table border=\"1\" class=\"dataframe\">\n",
       "  <thead>\n",
       "    <tr style=\"text-align: right;\">\n",
       "      <th></th>\n",
       "      <th>Date</th>\n",
       "      <th>Open</th>\n",
       "      <th>High</th>\n",
       "      <th>Low</th>\n",
       "      <th>Close</th>\n",
       "      <th>Volume</th>\n",
       "      <th>Dividends</th>\n",
       "      <th>Stock Splits</th>\n",
       "    </tr>\n",
       "  </thead>\n",
       "  <tbody>\n",
       "    <tr>\n",
       "      <th>56</th>\n",
       "      <td>2017-03-24</td>\n",
       "      <td>25.750</td>\n",
       "      <td>25.953</td>\n",
       "      <td>25.451</td>\n",
       "      <td>25.750</td>\n",
       "      <td>2931200</td>\n",
       "      <td>0.0</td>\n",
       "      <td>0.0</td>\n",
       "    </tr>\n",
       "    <tr>\n",
       "      <th>80</th>\n",
       "      <td>2017-04-28</td>\n",
       "      <td>26.377</td>\n",
       "      <td>26.532</td>\n",
       "      <td>26.233</td>\n",
       "      <td>26.377</td>\n",
       "      <td>4363000</td>\n",
       "      <td>0.0</td>\n",
       "      <td>0.0</td>\n",
       "    </tr>\n",
       "    <tr>\n",
       "      <th>184</th>\n",
       "      <td>2017-09-26</td>\n",
       "      <td>25.471</td>\n",
       "      <td>25.549</td>\n",
       "      <td>25.287</td>\n",
       "      <td>25.471</td>\n",
       "      <td>3388400</td>\n",
       "      <td>0.0</td>\n",
       "      <td>0.0</td>\n",
       "    </tr>\n",
       "    <tr>\n",
       "      <th>276</th>\n",
       "      <td>2018-02-07</td>\n",
       "      <td>24.444</td>\n",
       "      <td>24.794</td>\n",
       "      <td>24.220</td>\n",
       "      <td>24.444</td>\n",
       "      <td>5549200</td>\n",
       "      <td>0.0</td>\n",
       "      <td>0.0</td>\n",
       "    </tr>\n",
       "    <tr>\n",
       "      <th>363</th>\n",
       "      <td>2018-06-13</td>\n",
       "      <td>17.561</td>\n",
       "      <td>17.629</td>\n",
       "      <td>17.405</td>\n",
       "      <td>17.561</td>\n",
       "      <td>4944200</td>\n",
       "      <td>0.0</td>\n",
       "      <td>0.0</td>\n",
       "    </tr>\n",
       "    <tr>\n",
       "      <th>418</th>\n",
       "      <td>2018-08-30</td>\n",
       "      <td>21.628</td>\n",
       "      <td>22.010</td>\n",
       "      <td>21.462</td>\n",
       "      <td>21.628</td>\n",
       "      <td>3491800</td>\n",
       "      <td>0.0</td>\n",
       "      <td>0.0</td>\n",
       "    </tr>\n",
       "    <tr>\n",
       "      <th>424</th>\n",
       "      <td>2018-09-10</td>\n",
       "      <td>21.550</td>\n",
       "      <td>21.756</td>\n",
       "      <td>21.501</td>\n",
       "      <td>21.550</td>\n",
       "      <td>2223500</td>\n",
       "      <td>0.0</td>\n",
       "      <td>0.0</td>\n",
       "    </tr>\n",
       "    <tr>\n",
       "      <th>470</th>\n",
       "      <td>2018-11-13</td>\n",
       "      <td>19.766</td>\n",
       "      <td>20.287</td>\n",
       "      <td>19.579</td>\n",
       "      <td>19.766</td>\n",
       "      <td>5076400</td>\n",
       "      <td>0.0</td>\n",
       "      <td>0.0</td>\n",
       "    </tr>\n",
       "    <tr>\n",
       "      <th>512</th>\n",
       "      <td>2019-01-16</td>\n",
       "      <td>19.756</td>\n",
       "      <td>20.021</td>\n",
       "      <td>19.491</td>\n",
       "      <td>19.756</td>\n",
       "      <td>5559300</td>\n",
       "      <td>0.0</td>\n",
       "      <td>0.0</td>\n",
       "    </tr>\n",
       "    <tr>\n",
       "      <th>545</th>\n",
       "      <td>2019-03-06</td>\n",
       "      <td>18.352</td>\n",
       "      <td>18.687</td>\n",
       "      <td>18.263</td>\n",
       "      <td>18.352</td>\n",
       "      <td>4824700</td>\n",
       "      <td>0.0</td>\n",
       "      <td>0.0</td>\n",
       "    </tr>\n",
       "    <tr>\n",
       "      <th>555</th>\n",
       "      <td>2019-03-20</td>\n",
       "      <td>18.815</td>\n",
       "      <td>18.943</td>\n",
       "      <td>18.697</td>\n",
       "      <td>18.815</td>\n",
       "      <td>3572700</td>\n",
       "      <td>0.0</td>\n",
       "      <td>0.0</td>\n",
       "    </tr>\n",
       "    <tr>\n",
       "      <th>574</th>\n",
       "      <td>2019-04-16</td>\n",
       "      <td>20.393</td>\n",
       "      <td>20.551</td>\n",
       "      <td>20.274</td>\n",
       "      <td>20.393</td>\n",
       "      <td>3479200</td>\n",
       "      <td>0.0</td>\n",
       "      <td>0.0</td>\n",
       "    </tr>\n",
       "    <tr>\n",
       "      <th>595</th>\n",
       "      <td>2019-05-16</td>\n",
       "      <td>21.833</td>\n",
       "      <td>22.070</td>\n",
       "      <td>21.754</td>\n",
       "      <td>21.833</td>\n",
       "      <td>3313300</td>\n",
       "      <td>0.0</td>\n",
       "      <td>0.0</td>\n",
       "    </tr>\n",
       "    <tr>\n",
       "      <th>622</th>\n",
       "      <td>2019-06-25</td>\n",
       "      <td>24.074</td>\n",
       "      <td>24.291</td>\n",
       "      <td>23.847</td>\n",
       "      <td>24.074</td>\n",
       "      <td>3881100</td>\n",
       "      <td>0.0</td>\n",
       "      <td>0.0</td>\n",
       "    </tr>\n",
       "    <tr>\n",
       "      <th>636</th>\n",
       "      <td>2019-07-16</td>\n",
       "      <td>25.446</td>\n",
       "      <td>25.633</td>\n",
       "      <td>25.367</td>\n",
       "      <td>25.446</td>\n",
       "      <td>2244300</td>\n",
       "      <td>0.0</td>\n",
       "      <td>0.0</td>\n",
       "    </tr>\n",
       "    <tr>\n",
       "      <th>653</th>\n",
       "      <td>2019-08-08</td>\n",
       "      <td>25.120</td>\n",
       "      <td>25.515</td>\n",
       "      <td>24.824</td>\n",
       "      <td>25.120</td>\n",
       "      <td>4101400</td>\n",
       "      <td>0.0</td>\n",
       "      <td>0.0</td>\n",
       "    </tr>\n",
       "    <tr>\n",
       "      <th>788</th>\n",
       "      <td>2020-02-21</td>\n",
       "      <td>33.106</td>\n",
       "      <td>33.284</td>\n",
       "      <td>32.849</td>\n",
       "      <td>33.106</td>\n",
       "      <td>3321600</td>\n",
       "      <td>0.0</td>\n",
       "      <td>0.0</td>\n",
       "    </tr>\n",
       "    <tr>\n",
       "      <th>957</th>\n",
       "      <td>2020-10-21</td>\n",
       "      <td>17.943</td>\n",
       "      <td>18.121</td>\n",
       "      <td>17.735</td>\n",
       "      <td>17.943</td>\n",
       "      <td>1314800</td>\n",
       "      <td>0.0</td>\n",
       "      <td>0.0</td>\n",
       "    </tr>\n",
       "    <tr>\n",
       "      <th>1125</th>\n",
       "      <td>2021-06-23</td>\n",
       "      <td>33.442</td>\n",
       "      <td>33.719</td>\n",
       "      <td>33.254</td>\n",
       "      <td>33.442</td>\n",
       "      <td>1876500</td>\n",
       "      <td>0.0</td>\n",
       "      <td>0.0</td>\n",
       "    </tr>\n",
       "  </tbody>\n",
       "</table>\n",
       "</div>"
      ],
      "text/plain": [
       "            Date    Open    High     Low   Close   Volume  Dividends  \\\n",
       "56    2017-03-24  25.750  25.953  25.451  25.750  2931200        0.0   \n",
       "80    2017-04-28  26.377  26.532  26.233  26.377  4363000        0.0   \n",
       "184   2017-09-26  25.471  25.549  25.287  25.471  3388400        0.0   \n",
       "276   2018-02-07  24.444  24.794  24.220  24.444  5549200        0.0   \n",
       "363   2018-06-13  17.561  17.629  17.405  17.561  4944200        0.0   \n",
       "418   2018-08-30  21.628  22.010  21.462  21.628  3491800        0.0   \n",
       "424   2018-09-10  21.550  21.756  21.501  21.550  2223500        0.0   \n",
       "470   2018-11-13  19.766  20.287  19.579  19.766  5076400        0.0   \n",
       "512   2019-01-16  19.756  20.021  19.491  19.756  5559300        0.0   \n",
       "545   2019-03-06  18.352  18.687  18.263  18.352  4824700        0.0   \n",
       "555   2019-03-20  18.815  18.943  18.697  18.815  3572700        0.0   \n",
       "574   2019-04-16  20.393  20.551  20.274  20.393  3479200        0.0   \n",
       "595   2019-05-16  21.833  22.070  21.754  21.833  3313300        0.0   \n",
       "622   2019-06-25  24.074  24.291  23.847  24.074  3881100        0.0   \n",
       "636   2019-07-16  25.446  25.633  25.367  25.446  2244300        0.0   \n",
       "653   2019-08-08  25.120  25.515  24.824  25.120  4101400        0.0   \n",
       "788   2020-02-21  33.106  33.284  32.849  33.106  3321600        0.0   \n",
       "957   2020-10-21  17.943  18.121  17.735  17.943  1314800        0.0   \n",
       "1125  2021-06-23  33.442  33.719  33.254  33.442  1876500        0.0   \n",
       "\n",
       "      Stock Splits  \n",
       "56             0.0  \n",
       "80             0.0  \n",
       "184            0.0  \n",
       "276            0.0  \n",
       "363            0.0  \n",
       "418            0.0  \n",
       "424            0.0  \n",
       "470            0.0  \n",
       "512            0.0  \n",
       "545            0.0  \n",
       "555            0.0  \n",
       "574            0.0  \n",
       "595            0.0  \n",
       "622            0.0  \n",
       "636            0.0  \n",
       "653            0.0  \n",
       "788            0.0  \n",
       "957            0.0  \n",
       "1125           0.0  "
      ]
     },
     "execution_count": 28,
     "metadata": {},
     "output_type": "execute_result"
    }
   ],
   "source": [
    "#data_dg[data_dg[\"Open\"]==data_dg[\"Close\"]]\n",
    "#data_hig[data_hig[\"Open\"]==data_hig[\"Close\"]]\n",
    "#data_hpe[data_hpe[\"Open\"]==data_hpe[\"Close\"]]\n",
    "data_hwm[data_hwm[\"Open\"]==data_hwm[\"Close\"]]"
   ]
  },
  {
   "cell_type": "markdown",
   "metadata": {},
   "source": [
    "Task 2"
   ]
  },
  {
   "cell_type": "code",
   "execution_count": 20,
   "metadata": {},
   "outputs": [
    {
     "data": {
      "text/html": [
       "<div>\n",
       "<style scoped>\n",
       "    .dataframe tbody tr th:only-of-type {\n",
       "        vertical-align: middle;\n",
       "    }\n",
       "\n",
       "    .dataframe tbody tr th {\n",
       "        vertical-align: top;\n",
       "    }\n",
       "\n",
       "    .dataframe thead th {\n",
       "        text-align: right;\n",
       "    }\n",
       "</style>\n",
       "<table border=\"1\" class=\"dataframe\">\n",
       "  <thead>\n",
       "    <tr style=\"text-align: right;\">\n",
       "      <th></th>\n",
       "      <th>Name</th>\n",
       "      <th>Max</th>\n",
       "      <th>Min</th>\n",
       "    </tr>\n",
       "  </thead>\n",
       "  <tbody>\n",
       "    <tr>\n",
       "      <th>0</th>\n",
       "      <td>dg</td>\n",
       "      <td>251.814</td>\n",
       "      <td>62.481</td>\n",
       "    </tr>\n",
       "    <tr>\n",
       "      <th>1</th>\n",
       "      <td>hig</td>\n",
       "      <td>73.808</td>\n",
       "      <td>23.613</td>\n",
       "    </tr>\n",
       "    <tr>\n",
       "      <th>2</th>\n",
       "      <td>hwm</td>\n",
       "      <td>39.143</td>\n",
       "      <td>10.475</td>\n",
       "    </tr>\n",
       "    <tr>\n",
       "      <th>3</th>\n",
       "      <td>hpe</td>\n",
       "      <td>16.278</td>\n",
       "      <td>6.753</td>\n",
       "    </tr>\n",
       "  </tbody>\n",
       "</table>\n",
       "</div>"
      ],
      "text/plain": [
       "  Name      Max     Min\n",
       "0   dg  251.814  62.481\n",
       "1  hig   73.808  23.613\n",
       "2  hwm   39.143  10.475\n",
       "3  hpe   16.278   6.753"
      ]
     },
     "execution_count": 20,
     "metadata": {},
     "output_type": "execute_result"
    }
   ],
   "source": [
    "max_low = pd.DataFrame([\n",
    "    [\"dg\", data_dg[\"Close\"].max(), data_dg[\"Close\"].min()],\n",
    "    [\"hig\", data_hig[\"Close\"].max(), data_hig[\"Close\"].min()],\n",
    "    [\"hwm\", data_hwm[\"Close\"].max(), data_hwm[\"Close\"].min()],\n",
    "    [\"hpe\", data_hpe[\"Close\"].max(), data_hpe[\"Close\"].min()],\n",
    "], columns=[\"Name\",'Max', 'Min'])\n",
    "\n",
    "max_low"
   ]
  },
  {
   "cell_type": "markdown",
   "metadata": {},
   "source": [
    "Task 3"
   ]
  },
  {
   "cell_type": "markdown",
   "metadata": {},
   "source": [
    "# Second Part"
   ]
  },
  {
   "cell_type": "code",
   "execution_count": 30,
   "metadata": {},
   "outputs": [
    {
     "name": "stdout",
     "output_type": "stream",
     "text": [
      "<class 'pandas.core.frame.DataFrame'>\n",
      "RangeIndex: 503 entries, 0 to 502\n",
      "Data columns (total 6 columns):\n",
      " #   Column       Non-Null Count  Dtype \n",
      "---  ------       --------------  ----- \n",
      " 0   Symbol       503 non-null    object\n",
      " 1   Security     503 non-null    object\n",
      " 2   GICS_Sector  503 non-null    object\n",
      " 3   hq           503 non-null    object\n",
      " 4   included     458 non-null    object\n",
      " 5   Founded      503 non-null    object\n",
      "dtypes: object(6)\n",
      "memory usage: 23.7+ KB\n"
     ]
    }
   ],
   "source": [
    "# load dataset\n",
    "data_sp=pd.read_csv(\"data/companies_no_subindustry.csv\")\n",
    "data_sp.info()"
   ]
  },
  {
   "cell_type": "markdown",
   "metadata": {},
   "source": [
    "Task 1"
   ]
  },
  {
   "cell_type": "code",
   "execution_count": 37,
   "metadata": {},
   "outputs": [
    {
     "data": {
      "text/plain": [
       "45"
      ]
     },
     "execution_count": 37,
     "metadata": {},
     "output_type": "execute_result"
    }
   ],
   "source": [
    "# compute missing values\n",
    "data_sp.fillna(0, inplace = True)\n",
    "len(data_sp[data_sp[\"included\"]==0])"
   ]
  },
  {
   "cell_type": "markdown",
   "metadata": {},
   "source": [
    "Task 2"
   ]
  },
  {
   "cell_type": "code",
   "execution_count": 64,
   "metadata": {},
   "outputs": [
    {
     "data": {
      "text/html": [
       "<div>\n",
       "<style scoped>\n",
       "    .dataframe tbody tr th:only-of-type {\n",
       "        vertical-align: middle;\n",
       "    }\n",
       "\n",
       "    .dataframe tbody tr th {\n",
       "        vertical-align: top;\n",
       "    }\n",
       "\n",
       "    .dataframe thead th {\n",
       "        text-align: right;\n",
       "    }\n",
       "</style>\n",
       "<table border=\"1\" class=\"dataframe\">\n",
       "  <thead>\n",
       "    <tr style=\"text-align: right;\">\n",
       "      <th></th>\n",
       "      <th>Symbol</th>\n",
       "      <th>Security</th>\n",
       "      <th>GICS_Sector</th>\n",
       "      <th>hq</th>\n",
       "      <th>included</th>\n",
       "      <th>Founded</th>\n",
       "    </tr>\n",
       "  </thead>\n",
       "  <tbody>\n",
       "    <tr>\n",
       "      <th>71</th>\n",
       "      <td>BK</td>\n",
       "      <td>BNY Mellon</td>\n",
       "      <td>Financials</td>\n",
       "      <td>New York City, New York</td>\n",
       "      <td>31.03.1995</td>\n",
       "      <td>1784-01-01</td>\n",
       "    </tr>\n",
       "  </tbody>\n",
       "</table>\n",
       "</div>"
      ],
      "text/plain": [
       "   Symbol    Security GICS_Sector                       hq    included  \\\n",
       "71     BK  BNY Mellon  Financials  New York City, New York  31.03.1995   \n",
       "\n",
       "      Founded  \n",
       "71 1784-01-01  "
      ]
     },
     "execution_count": 64,
     "metadata": {},
     "output_type": "execute_result"
    }
   ],
   "source": [
    "# load again clean dataset (yes, it can be done nicer..)\n",
    "data_sp=pd.read_csv(\"data/companies_no_subindustry.csv\")\n",
    "data_sp[\"included\"].dropna(inplace = True)\n",
    "data_sp[\"Founded\"] = pd.to_datetime(data_sp[\"Founded\"], dayfirst=True, errors='coerce')\n",
    "min_date = data_sp[\"Founded\"].min()\n",
    "max_date = data_sp[\"Founded\"].max()\n",
    "# odlest company\n",
    "data_sp[data_sp[\"Founded\"]==min_date]"
   ]
  },
  {
   "cell_type": "code",
   "execution_count": 65,
   "metadata": {},
   "outputs": [
    {
     "data": {
      "text/html": [
       "<div>\n",
       "<style scoped>\n",
       "    .dataframe tbody tr th:only-of-type {\n",
       "        vertical-align: middle;\n",
       "    }\n",
       "\n",
       "    .dataframe tbody tr th {\n",
       "        vertical-align: top;\n",
       "    }\n",
       "\n",
       "    .dataframe thead th {\n",
       "        text-align: right;\n",
       "    }\n",
       "</style>\n",
       "<table border=\"1\" class=\"dataframe\">\n",
       "  <thead>\n",
       "    <tr style=\"text-align: right;\">\n",
       "      <th></th>\n",
       "      <th>Symbol</th>\n",
       "      <th>Security</th>\n",
       "      <th>GICS_Sector</th>\n",
       "      <th>hq</th>\n",
       "      <th>included</th>\n",
       "      <th>Founded</th>\n",
       "    </tr>\n",
       "  </thead>\n",
       "  <tbody>\n",
       "    <tr>\n",
       "      <th>481</th>\n",
       "      <td>WBD</td>\n",
       "      <td>Warner Bros. Discovery</td>\n",
       "      <td>Communication Services</td>\n",
       "      <td>New York City, New York</td>\n",
       "      <td>11.04.2022</td>\n",
       "      <td>2022-01-01</td>\n",
       "    </tr>\n",
       "  </tbody>\n",
       "</table>\n",
       "</div>"
      ],
      "text/plain": [
       "    Symbol                Security             GICS_Sector  \\\n",
       "481    WBD  Warner Bros. Discovery  Communication Services   \n",
       "\n",
       "                          hq    included    Founded  \n",
       "481  New York City, New York  11.04.2022 2022-01-01  "
      ]
     },
     "execution_count": 65,
     "metadata": {},
     "output_type": "execute_result"
    }
   ],
   "source": [
    "# youngest company\n",
    "data_sp[data_sp[\"Founded\"]==max_date]"
   ]
  },
  {
   "cell_type": "code",
   "execution_count": 69,
   "metadata": {},
   "outputs": [
    {
     "data": {
      "text/plain": [
       "Timestamp('1951-09-24 22:45:21.382289408')"
      ]
     },
     "execution_count": 69,
     "metadata": {},
     "output_type": "execute_result"
    }
   ],
   "source": [
    "data_sp[\"Founded\"].mean() # which mean that the company is 73 years old or do it by today() "
   ]
  },
  {
   "cell_type": "markdown",
   "metadata": {},
   "source": [
    "Task 4"
   ]
  },
  {
   "cell_type": "code",
   "execution_count": 77,
   "metadata": {},
   "outputs": [],
   "source": [
    "# having state \n",
    "data_sp[\"state\"] = data_sp[\"hq\"].str.split(\", \", expand=True)[1]"
   ]
  },
  {
   "cell_type": "code",
   "execution_count": 80,
   "metadata": {},
   "outputs": [
    {
     "data": {
      "text/plain": [
       "<Axes: >"
      ]
     },
     "execution_count": 80,
     "metadata": {},
     "output_type": "execute_result"
    },
    {
     "data": {
      "image/png": "[encoded data removed]",
      "text/plain": [
       "<Figure size 640x480 with 1 Axes>"
      ]
     },
     "metadata": {},
     "output_type": "display_data"
    }
   ],
   "source": [
    "data_sp[\"state\"].hist() # we can not see the names properly bu we can conlude that is not evenly distributed"
   ]
  },
  {
   "cell_type": "markdown",
   "metadata": {},
   "source": [
    "Task 3"
   ]
  },
  {
   "cell_type": "code",
   "execution_count": 86,
   "metadata": {},
   "outputs": [
    {
     "ename": "AttributeError",
     "evalue": "'DataFrameGroupBy' object has no attribute 'str'",
     "output_type": "error",
     "traceback": [
      "\u001b[0;31m---------------------------------------------------------------------------\u001b[0m",
      "\u001b[0;31mAttributeError\u001b[0m                            Traceback (most recent call last)",
      "Cell \u001b[0;32mIn[86], line 1\u001b[0m\n\u001b[0;32m----> 1\u001b[0m \u001b[43mdata_sp\u001b[49m\u001b[38;5;241;43m.\u001b[39;49m\u001b[43mgroupby\u001b[49m\u001b[43m(\u001b[49m\u001b[43m[\u001b[49m\u001b[38;5;124;43m'\u001b[39;49m\u001b[38;5;124;43mGICS_Sector\u001b[39;49m\u001b[38;5;124;43m'\u001b[39;49m\u001b[43m]\u001b[49m\u001b[43m)\u001b[49m\u001b[38;5;241;43m.\u001b[39;49m\u001b[43mstr\u001b[49m\u001b[38;5;241m.\u001b[39msum()\u001b[38;5;241m.\u001b[39mplot\u001b[38;5;241m.\u001b[39mpie()\n",
      "File \u001b[0;32m~/repo/midterm/.venv/lib/python3.12/site-packages/pandas/core/groupby/groupby.py:1363\u001b[0m, in \u001b[0;36mGroupBy.__getattr__\u001b[0;34m(self, attr)\u001b[0m\n\u001b[1;32m   1360\u001b[0m \u001b[38;5;28;01mif\u001b[39;00m attr \u001b[38;5;129;01min\u001b[39;00m \u001b[38;5;28mself\u001b[39m\u001b[38;5;241m.\u001b[39mobj:\n\u001b[1;32m   1361\u001b[0m     \u001b[38;5;28;01mreturn\u001b[39;00m \u001b[38;5;28mself\u001b[39m[attr]\n\u001b[0;32m-> 1363\u001b[0m \u001b[38;5;28;01mraise\u001b[39;00m \u001b[38;5;167;01mAttributeError\u001b[39;00m(\n\u001b[1;32m   1364\u001b[0m     \u001b[38;5;124mf\u001b[39m\u001b[38;5;124m\"\u001b[39m\u001b[38;5;124m'\u001b[39m\u001b[38;5;132;01m{\u001b[39;00m\u001b[38;5;28mtype\u001b[39m(\u001b[38;5;28mself\u001b[39m)\u001b[38;5;241m.\u001b[39m\u001b[38;5;18m__name__\u001b[39m\u001b[38;5;132;01m}\u001b[39;00m\u001b[38;5;124m'\u001b[39m\u001b[38;5;124m object has no attribute \u001b[39m\u001b[38;5;124m'\u001b[39m\u001b[38;5;132;01m{\u001b[39;00mattr\u001b[38;5;132;01m}\u001b[39;00m\u001b[38;5;124m'\u001b[39m\u001b[38;5;124m\"\u001b[39m\n\u001b[1;32m   1365\u001b[0m )\n",
      "\u001b[0;31mAttributeError\u001b[0m: 'DataFrameGroupBy' object has no attribute 'str'"
     ]
    }
   ],
   "source": [
    "data_sp.groupby(['GICS_Sector']).str.sum().plot.pie() # not working maybe cost type"
   ]
  },
  {
   "cell_type": "code",
   "execution_count": null,
   "metadata": {},
   "outputs": [],
   "source": []
  }
 ],
 "metadata": {
  "kernelspec": {
   "display_name": "Python 3 (ipykernel)",
   "language": "python",
   "name": "python3"
  },
  "language_info": {
   "codemirror_mode": {
    "name": "ipython",
    "version": 3
   },
   "file_extension": ".py",
   "mimetype": "text/x-python",
   "name": "python",
   "nbconvert_exporter": "python",
   "pygments_lexer": "ipython3",
   "version": "3.12.3"
  }
 },
 "nbformat": 4,
 "nbformat_minor": 4
}
